{
  "cells": [
    {
      "cell_type": "markdown",
      "metadata": {
        "id": "4XicwJpvnguz"
      },
      "source": [
        "# Практическое задание № 1. Классификация\n"
      ]
    },
    {
      "cell_type": "markdown",
      "metadata": {
        "id": "uzsNZ_EOngu1"
      },
      "source": [
        "**Работу выполнил:**\n",
        "\n",
        "Румянцев Алексей Александрович, 368731"
      ]
    },
    {
      "cell_type": "markdown",
      "metadata": {
        "datalore": {
          "hide_input_from_viewers": true,
          "hide_output_from_viewers": true,
          "node_id": "65baONV00WsOUl0mBEn7mB",
          "type": "MD"
        },
        "id": "kdqe9jJ2ngu1"
      },
      "source": [
        "# Распознавание активности человека на основе данных с мобильных сенсоров\n",
        "\n",
        "Необходимо по данным с мобильных сенсоров при помощи прикладных алгоритмов машинного обучения предсказать активность человека по шести классам движений:\n",
        "* Движется по прямой\n",
        "* Движется вверх (например, движение по лестнице вверх)\n",
        "* Движется вниз (например, движение по лестнице вниз)\n",
        "* Сидит\n",
        "* Стоит\n",
        "* Лежит\n",
        "\n",
        "## Сведения о наборе данных\n",
        "Набор данных содержит записи датчиков со сматфонов (акселерометр и гироскоп с частотой дискретизации 50 Гц) от 30 участников, выполняющих следующие действия: ходьба, ходьба по лестнице, ходьба по лестнице, сидение, стояние и лежание. Данные были предварительно обработаны при помощи фильтров шума. Набор данных представлен Хорхе Л. Рейес-Ортисом.\n",
        "\n",
        "Признаки были извлечены из 3-х осевых необработанных сигналов акселерометра и гироскопа tAcc-XYZ и tGyro-XYZ. Эти сигналы были сняты с постоянной частотой 50 Гц. Затем были отфильтрованны с помощью медианного фильтра и низкочастотного фильтра Баттерворта 3-го порядка с частотой 20 Гц для удаления шумов. Аналогичным образом сигнал ускорения был разделен на сигналы ускорения тела и гравитации (`tBodyAcc-XYZ` и `tGravityAcc-XYZ`) с помощью другого низкочастотного фильтра Баттерворта с угловой частотой 0,3 Гц. Линейное ускорение тела и угловая скорость были использованы для получения сигналов \"рывка\" — (`tBodyAccJerk-XYZ` и `tBodyGyroJerk-XYZ`). Также величина этих трехмерных сигналов была расчитана с использованием евклидовой нормы — (`tBodyAccMag`, `tGravityAccMag`, `tBodyAccJerkMag`, `tBodyGyroMag`, `tBodyGyroJerkMag`).\n",
        "\n",
        "Наконец, к некоторым из этих сигналов было применено быстрое преобразование Фурье (БПФ), в результате чего получились `fBodyAcc-XYZ`, `fBodyAccJerk-XYZ`, `fBodyGyro-XYZ`, `fBodyAccJerkMag`, `fBodyGyroMag`, `fBodyGyroJerkMag`. (Обратите внимание на \"f\" для обозначения сигналов в частотной области).\n",
        "\n",
        "Набор переменных, которые были оценены по этим сигналам, следующий:\n",
        "* mean(): Среднее значение\n",
        "* std(): Стандартное отклонение\n",
        "* mad(): Среднее абсолютное отклонение\n",
        "* max(): Наибольшее значение в массиве\n",
        "* min(): Наименьшее значение в массиве\n",
        "* sma(): Область величины сигнала\n",
        "* energy(): Мера энергии. Сумма квадратов, деленная на количество значений.\n",
        "* iqr(): Интерквартильный размах\n",
        "* entropy(): Энтропия сигнала\n",
        "* arCoeff(): Коэффициенты авторегрессии с порядком Burg, равным 4\n",
        "* correlation(): коэффициент корреляции между двумя сигналами\n",
        "* maxInds(): индекс частотной составляющей с наибольшей величиной\n",
        "* meanFreq(): средневзвешенное значение частотных компонент для получения средней частоты\n",
        "* skewness(): перекос сигнала в частотной области\n",
        "* kurtosis(): эксцесс сигнала в частотной области\n",
        "* bandsEnergy(): Энергия частотного интервала в пределах 64 бинов БПФ каждого окна.\n",
        "* angle(): Угол между векторами.\n",
        "## Импорт библиотек\n",
        "Первым делом импортируем необходимые библиотеки для работы с данными:"
      ]
    },
    {
      "cell_type": "code",
      "execution_count": 9,
      "metadata": {
        "datalore": {
          "hide_input_from_viewers": true,
          "hide_output_from_viewers": true,
          "node_id": "TzA30C5txlPCx905qKUzmx",
          "type": "CODE"
        },
        "id": "vo-yxq29ngu2"
      },
      "outputs": [],
      "source": [
        "import os\n",
        "import numpy as np\n",
        "import pandas as pd"
      ]
    },
    {
      "cell_type": "markdown",
      "metadata": {
        "datalore": {
          "hide_input_from_viewers": true,
          "hide_output_from_viewers": true,
          "node_id": "nD59cMaNdT5dJig8Kb7R1X",
          "type": "MD"
        },
        "id": "uwQd4-nIngu2"
      },
      "source": [
        "## Считываем набор данных\n",
        "\n",
        "В прикладных задачах машинного обучения очень важен процесс извлечения признаков (feature extraction), в ходе которого данные интерпретируются в информативные признаки. Также этот процесс может называться проектирование признаков (feature engineering), это весьма трудоемкая и творческая задача. В рамках работы мы опустим эту часть и воспользуемся предобработанными данными."
      ]
    },
    {
      "cell_type": "code",
      "execution_count": 10,
      "metadata": {
        "datalore": {
          "hide_input_from_viewers": true,
          "hide_output_from_viewers": true,
          "node_id": "vpBrpkTQTOee0O87NtQUy4",
          "type": "CODE"
        },
        "id": "WtlKLni6ngu2"
      },
      "outputs": [
        {
          "data": {
            "text/html": [
              "<div>\n",
              "<style scoped>\n",
              "    .dataframe tbody tr th:only-of-type {\n",
              "        vertical-align: middle;\n",
              "    }\n",
              "\n",
              "    .dataframe tbody tr th {\n",
              "        vertical-align: top;\n",
              "    }\n",
              "\n",
              "    .dataframe thead th {\n",
              "        text-align: right;\n",
              "    }\n",
              "</style>\n",
              "<table border=\"1\" class=\"dataframe\">\n",
              "  <thead>\n",
              "    <tr style=\"text-align: right;\">\n",
              "      <th></th>\n",
              "      <th>tBodyAcc-mean()-X</th>\n",
              "      <th>tBodyAcc-mean()-Y</th>\n",
              "      <th>tBodyAcc-mean()-Z</th>\n",
              "      <th>tBodyAcc-std()-X</th>\n",
              "      <th>tBodyAcc-std()-Y</th>\n",
              "      <th>tBodyAcc-std()-Z</th>\n",
              "      <th>tBodyAcc-mad()-X</th>\n",
              "      <th>tBodyAcc-mad()-Y</th>\n",
              "      <th>tBodyAcc-mad()-Z</th>\n",
              "      <th>tBodyAcc-max()-X</th>\n",
              "      <th>...</th>\n",
              "      <th>fBodyBodyGyroJerkMag-kurtosis()</th>\n",
              "      <th>angle(tBodyAccMean,gravity)</th>\n",
              "      <th>angle(tBodyAccJerkMean),gravityMean)</th>\n",
              "      <th>angle(tBodyGyroMean,gravityMean)</th>\n",
              "      <th>angle(tBodyGyroJerkMean,gravityMean)</th>\n",
              "      <th>angle(X,gravityMean)</th>\n",
              "      <th>angle(Y,gravityMean)</th>\n",
              "      <th>angle(Z,gravityMean)</th>\n",
              "      <th>subject</th>\n",
              "      <th>Activity</th>\n",
              "    </tr>\n",
              "  </thead>\n",
              "  <tbody>\n",
              "    <tr>\n",
              "      <th>0</th>\n",
              "      <td>0.288585</td>\n",
              "      <td>-0.020294</td>\n",
              "      <td>-0.132905</td>\n",
              "      <td>-0.995279</td>\n",
              "      <td>-0.983111</td>\n",
              "      <td>-0.913526</td>\n",
              "      <td>-0.995112</td>\n",
              "      <td>-0.983185</td>\n",
              "      <td>-0.923527</td>\n",
              "      <td>-0.934724</td>\n",
              "      <td>...</td>\n",
              "      <td>-0.710304</td>\n",
              "      <td>-0.112754</td>\n",
              "      <td>0.030400</td>\n",
              "      <td>-0.464761</td>\n",
              "      <td>-0.018446</td>\n",
              "      <td>-0.841247</td>\n",
              "      <td>0.179941</td>\n",
              "      <td>-0.058627</td>\n",
              "      <td>1</td>\n",
              "      <td>STANDING</td>\n",
              "    </tr>\n",
              "    <tr>\n",
              "      <th>1</th>\n",
              "      <td>0.278419</td>\n",
              "      <td>-0.016411</td>\n",
              "      <td>-0.123520</td>\n",
              "      <td>-0.998245</td>\n",
              "      <td>-0.975300</td>\n",
              "      <td>-0.960322</td>\n",
              "      <td>-0.998807</td>\n",
              "      <td>-0.974914</td>\n",
              "      <td>-0.957686</td>\n",
              "      <td>-0.943068</td>\n",
              "      <td>...</td>\n",
              "      <td>-0.861499</td>\n",
              "      <td>0.053477</td>\n",
              "      <td>-0.007435</td>\n",
              "      <td>-0.732626</td>\n",
              "      <td>0.703511</td>\n",
              "      <td>-0.844788</td>\n",
              "      <td>0.180289</td>\n",
              "      <td>-0.054317</td>\n",
              "      <td>1</td>\n",
              "      <td>STANDING</td>\n",
              "    </tr>\n",
              "    <tr>\n",
              "      <th>2</th>\n",
              "      <td>0.279653</td>\n",
              "      <td>-0.019467</td>\n",
              "      <td>-0.113462</td>\n",
              "      <td>-0.995380</td>\n",
              "      <td>-0.967187</td>\n",
              "      <td>-0.978944</td>\n",
              "      <td>-0.996520</td>\n",
              "      <td>-0.963668</td>\n",
              "      <td>-0.977469</td>\n",
              "      <td>-0.938692</td>\n",
              "      <td>...</td>\n",
              "      <td>-0.760104</td>\n",
              "      <td>-0.118559</td>\n",
              "      <td>0.177899</td>\n",
              "      <td>0.100699</td>\n",
              "      <td>0.808529</td>\n",
              "      <td>-0.848933</td>\n",
              "      <td>0.180637</td>\n",
              "      <td>-0.049118</td>\n",
              "      <td>1</td>\n",
              "      <td>STANDING</td>\n",
              "    </tr>\n",
              "    <tr>\n",
              "      <th>3</th>\n",
              "      <td>0.279174</td>\n",
              "      <td>-0.026201</td>\n",
              "      <td>-0.123283</td>\n",
              "      <td>-0.996091</td>\n",
              "      <td>-0.983403</td>\n",
              "      <td>-0.990675</td>\n",
              "      <td>-0.997099</td>\n",
              "      <td>-0.982750</td>\n",
              "      <td>-0.989302</td>\n",
              "      <td>-0.938692</td>\n",
              "      <td>...</td>\n",
              "      <td>-0.482845</td>\n",
              "      <td>-0.036788</td>\n",
              "      <td>-0.012892</td>\n",
              "      <td>0.640011</td>\n",
              "      <td>-0.485366</td>\n",
              "      <td>-0.848649</td>\n",
              "      <td>0.181935</td>\n",
              "      <td>-0.047663</td>\n",
              "      <td>1</td>\n",
              "      <td>STANDING</td>\n",
              "    </tr>\n",
              "    <tr>\n",
              "      <th>4</th>\n",
              "      <td>0.276629</td>\n",
              "      <td>-0.016570</td>\n",
              "      <td>-0.115362</td>\n",
              "      <td>-0.998139</td>\n",
              "      <td>-0.980817</td>\n",
              "      <td>-0.990482</td>\n",
              "      <td>-0.998321</td>\n",
              "      <td>-0.979672</td>\n",
              "      <td>-0.990441</td>\n",
              "      <td>-0.942469</td>\n",
              "      <td>...</td>\n",
              "      <td>-0.699205</td>\n",
              "      <td>0.123320</td>\n",
              "      <td>0.122542</td>\n",
              "      <td>0.693578</td>\n",
              "      <td>-0.615971</td>\n",
              "      <td>-0.847865</td>\n",
              "      <td>0.185151</td>\n",
              "      <td>-0.043892</td>\n",
              "      <td>1</td>\n",
              "      <td>STANDING</td>\n",
              "    </tr>\n",
              "  </tbody>\n",
              "</table>\n",
              "<p>5 rows × 563 columns</p>\n",
              "</div>"
            ],
            "text/plain": [
              "   tBodyAcc-mean()-X  tBodyAcc-mean()-Y  tBodyAcc-mean()-Z  tBodyAcc-std()-X  \\\n",
              "0           0.288585          -0.020294          -0.132905         -0.995279   \n",
              "1           0.278419          -0.016411          -0.123520         -0.998245   \n",
              "2           0.279653          -0.019467          -0.113462         -0.995380   \n",
              "3           0.279174          -0.026201          -0.123283         -0.996091   \n",
              "4           0.276629          -0.016570          -0.115362         -0.998139   \n",
              "\n",
              "   tBodyAcc-std()-Y  tBodyAcc-std()-Z  tBodyAcc-mad()-X  tBodyAcc-mad()-Y  \\\n",
              "0         -0.983111         -0.913526         -0.995112         -0.983185   \n",
              "1         -0.975300         -0.960322         -0.998807         -0.974914   \n",
              "2         -0.967187         -0.978944         -0.996520         -0.963668   \n",
              "3         -0.983403         -0.990675         -0.997099         -0.982750   \n",
              "4         -0.980817         -0.990482         -0.998321         -0.979672   \n",
              "\n",
              "   tBodyAcc-mad()-Z  tBodyAcc-max()-X  ...  fBodyBodyGyroJerkMag-kurtosis()  \\\n",
              "0         -0.923527         -0.934724  ...                        -0.710304   \n",
              "1         -0.957686         -0.943068  ...                        -0.861499   \n",
              "2         -0.977469         -0.938692  ...                        -0.760104   \n",
              "3         -0.989302         -0.938692  ...                        -0.482845   \n",
              "4         -0.990441         -0.942469  ...                        -0.699205   \n",
              "\n",
              "   angle(tBodyAccMean,gravity)  angle(tBodyAccJerkMean),gravityMean)  \\\n",
              "0                    -0.112754                              0.030400   \n",
              "1                     0.053477                             -0.007435   \n",
              "2                    -0.118559                              0.177899   \n",
              "3                    -0.036788                             -0.012892   \n",
              "4                     0.123320                              0.122542   \n",
              "\n",
              "   angle(tBodyGyroMean,gravityMean)  angle(tBodyGyroJerkMean,gravityMean)  \\\n",
              "0                         -0.464761                             -0.018446   \n",
              "1                         -0.732626                              0.703511   \n",
              "2                          0.100699                              0.808529   \n",
              "3                          0.640011                             -0.485366   \n",
              "4                          0.693578                             -0.615971   \n",
              "\n",
              "   angle(X,gravityMean)  angle(Y,gravityMean)  angle(Z,gravityMean)  subject  \\\n",
              "0             -0.841247              0.179941             -0.058627        1   \n",
              "1             -0.844788              0.180289             -0.054317        1   \n",
              "2             -0.848933              0.180637             -0.049118        1   \n",
              "3             -0.848649              0.181935             -0.047663        1   \n",
              "4             -0.847865              0.185151             -0.043892        1   \n",
              "\n",
              "   Activity  \n",
              "0  STANDING  \n",
              "1  STANDING  \n",
              "2  STANDING  \n",
              "3  STANDING  \n",
              "4  STANDING  \n",
              "\n",
              "[5 rows x 563 columns]"
            ]
          },
          "execution_count": 10,
          "metadata": {},
          "output_type": "execute_result"
        }
      ],
      "source": [
        "def read_data(path, filename):\n",
        "    return pd.read_csv(os.path.join(path, filename))\n",
        "\n",
        "path = 'D:/code/aai-labs/aai_lab1/'\n",
        "train_file = 'train.csv'\n",
        "df = read_data(path, train_file)\n",
        "df.head()"
      ]
    },
    {
      "cell_type": "markdown",
      "metadata": {
        "datalore": {
          "hide_input_from_viewers": true,
          "hide_output_from_viewers": true,
          "node_id": "1OJVLWWQ1b55HKqquqaCpb",
          "type": "MD"
        },
        "id": "9pW7qwZhngu3"
      },
      "source": [
        "Теперь, загрузим полный набор данных и сохранить его под следующими четырьмя переменными:\n",
        "\n",
        "* `train_X`: признаки, используемые для обучения модели\n",
        "* `train_y`: метки, используемые для обучения модели\n",
        "* `test_X`: признаки, используемые для проверки модели\n",
        "* `test_y`: метки, используемые для проверки модели"
      ]
    },
    {
      "cell_type": "code",
      "execution_count": 11,
      "metadata": {
        "datalore": {
          "hide_input_from_viewers": true,
          "hide_output_from_viewers": true,
          "node_id": "umrZvD6ekBlIjjgq1F4hDE",
          "type": "CODE"
        },
        "id": "Cw94P0Ubngu3"
      },
      "outputs": [],
      "source": [
        "def load_dataset(path: str, train_file: str, test_file: str, row: str, label_dict):\n",
        "    train_X = read_data(path, train_file).values[:, :-2]\n",
        "    train_y = read_data(path, train_file)[row]\n",
        "    train_y = train_y.map(label_dict).values\n",
        "    test_X = read_data(path, test_file).values[:, :-2]\n",
        "    test_y = read_data(path, test_file)\n",
        "    test_y = test_y[row].map(label_dict).values\n",
        "    return (train_X, train_y, test_X, test_y)\n",
        "\n",
        "test_file = 'test.csv'\n",
        "row = 'Activity'\n",
        "label_dict = {'WALKING':0, 'WALKING_UPSTAIRS':1, 'WALKING_DOWNSTAIRS':2, 'SITTING':3, 'STANDING':4, 'LAYING':5}\n",
        "train_X, train_y, test_X, test_y = load_dataset(path, train_file, test_file, row, label_dict)"
      ]
    },
    {
      "cell_type": "markdown",
      "metadata": {
        "datalore": {
          "hide_input_from_viewers": true,
          "hide_output_from_viewers": true,
          "node_id": "rzFpETjrvFpl2hD2bD7jYC",
          "type": "MD"
        },
        "id": "zn1NwH8Mngu3"
      },
      "source": [
        "## Выбор модели\n",
        "\n",
        "Импортируйте выбранную вами модель из библиотеки `sklearn` и инициализируйте её в объект `model`:\n",
        "\n",
        "Также необходимо выбрать **несколько** моделей ML для сравнения полученных результатов."
      ]
    },
    {
      "cell_type": "code",
      "execution_count": null,
      "metadata": {
        "datalore": {
          "hide_input_from_viewers": true,
          "hide_output_from_viewers": true,
          "node_id": "YJ9zPxZwd9nVxkWVvE1Ua9",
          "type": "CODE"
        },
        "id": "8ikzkhuKngu3"
      },
      "outputs": [],
      "source": [
        "# from sklearn.модель import название\n",
        "# ниже замените None на инициализацию вашей модели\n",
        "model = ()"
      ]
    },
    {
      "cell_type": "markdown",
      "metadata": {
        "datalore": {
          "hide_input_from_viewers": true,
          "hide_output_from_viewers": true,
          "node_id": "oldNCMdBVzl09OIOauCL7P",
          "type": "MD"
        },
        "id": "V0YU3rrMngu3"
      },
      "source": [
        "Опишите вашу мотивацию по выбору модели. Какие гиперпараметры есть у выбранной вами модели? За что они отвечают? На что влияют?"
      ]
    },
    {
      "cell_type": "markdown",
      "metadata": {
        "datalore": {
          "hide_input_from_viewers": true,
          "hide_output_from_viewers": true,
          "node_id": "HhCKE5nr9ZzWXIefwTXzuq",
          "type": "MD"
        },
        "id": "cjcQL5oWngu3"
      },
      "source": [
        "## Обучение модели\n",
        "\n",
        "Обучите модель, используя признаки из обучающего набора (`train_X`) и метки в качестве базовой истины (`train_y`)."
      ]
    },
    {
      "cell_type": "code",
      "execution_count": null,
      "metadata": {
        "datalore": {
          "hide_input_from_viewers": true,
          "hide_output_from_viewers": true,
          "node_id": "Dvg6HvHJDHHEIHEdXFnrnh",
          "type": "CODE"
        },
        "id": "GkaQFP2Tngu4"
      },
      "outputs": [],
      "source": [
        "model.fit(train_X, train_y)"
      ]
    },
    {
      "cell_type": "markdown",
      "metadata": {
        "datalore": {
          "hide_input_from_viewers": true,
          "hide_output_from_viewers": true,
          "node_id": "RlwxdG1csNqjt5MwA3xRdd",
          "type": "MD"
        },
        "id": "2abBbw7bngu4"
      },
      "source": [
        "## Оценка модели\n",
        "Используйте обученную модель для прогнозирования активности движения, используя признаки из тестового набора (`test_X`). Прогнозы сохраните в списке `yhat`."
      ]
    },
    {
      "cell_type": "code",
      "execution_count": null,
      "metadata": {
        "datalore": {
          "hide_input_from_viewers": true,
          "hide_output_from_viewers": true,
          "node_id": "6co7FcTwbjXUcBYdxRkCmn",
          "type": "CODE"
        },
        "id": "t91Mexz2ngu4"
      },
      "outputs": [],
      "source": [
        "yhat = model.predict(test_X)\n",
        "yhat"
      ]
    },
    {
      "cell_type": "code",
      "execution_count": null,
      "metadata": {
        "datalore": {
          "hide_input_from_viewers": true,
          "hide_output_from_viewers": true,
          "node_id": "O1n5AL0m65kfoRsQB5z71P",
          "type": "CODE"
        },
        "id": "1sBSWMpangu4"
      },
      "outputs": [],
      "source": [
        "from sklearn.metrics import classification_report\n",
        "target_names = ['Walking', 'Walking Upstairs', 'Walking Downstairs', 'Sitting', 'Standing', 'Laying']\n",
        "\n",
        "print(classification_report(test_y, yhat, target_names=target_names))"
      ]
    },
    {
      "cell_type": "code",
      "execution_count": null,
      "metadata": {
        "id": "UJyDHGuCngu4"
      },
      "outputs": [],
      "source": [
        "#Результаты сравнения\n",
        "\n",
        "\n",
        "\n",
        "\n"
      ]
    },
    {
      "cell_type": "markdown",
      "metadata": {
        "datalore": {
          "hide_input_from_viewers": true,
          "hide_output_from_viewers": true,
          "node_id": "h7NEM5RemUKlwTZEAMA5WQ",
          "type": "MD"
        },
        "id": "qD4LNIlRngu4"
      },
      "source": [
        "## Задание\n",
        "\n",
        "\n",
        "Выведите отчет о классификации, сравнив предсказания (`yhat`) с базовой истиной (`test_y`).\n",
        "\n",
        "В чем разница между показателями `precision` и `recall`? Что такое показатель `F1`?\n",
        "\n",
        "Используйте вариации нескольких моделей с разными гиперпараметрами. Сравните полученный результат (визуализируйте полученный результат).\n",
        "\n",
        "Что такое гиперпараметры модели машинного обучения (МО)?\n",
        "\n",
        "Опишите влияние гиперпараметров в выбранных вами моделях МО."
      ]
    }
  ],
  "metadata": {
    "colab": {
      "provenance": [],
      "toc_visible": true
    },
    "datalore": {
      "computation_mode": "JUPYTER",
      "packages": [],
      "report_row_ids": [],
      "version": 3
    },
    "kernelspec": {
      "display_name": "Python 3",
      "language": "python",
      "name": "python3"
    },
    "language_info": {
      "codemirror_mode": {
        "name": "ipython",
        "version": 3
      },
      "file_extension": ".py",
      "mimetype": "text/x-python",
      "name": "python",
      "nbconvert_exporter": "python",
      "pygments_lexer": "ipython3",
      "version": "3.12.3"
    }
  },
  "nbformat": 4,
  "nbformat_minor": 0
}
